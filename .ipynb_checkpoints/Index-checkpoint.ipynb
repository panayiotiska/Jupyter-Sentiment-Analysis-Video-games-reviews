{
 "cells": [
  {
   "cell_type": "markdown",
   "metadata": {},
   "source": [
    "<h1><center>Sentiment Analysis on Video-Game Reviews from Amazon<br><br>Naive Bayes and Support Vector Machine</center></h1>"
   ]
  },
  {
   "cell_type": "markdown",
   "metadata": {},
   "source": [
    "<div>\n",
    "<img src=\"figures/uom.jpg\" width=\"100\" align=\"center\"/>\n",
    "</div>\n",
    "\n",
    "<h2><p style='text-align: center;'> Panayiotis Kattides </p></h2>\n",
    "\n",
    "<div>\n",
    "<img src=\"figures/sentiment.jpg\" width=\"300\" align=\"center\"/>\n",
    "</div>\n",
    "\n",
    "<!--\n",
    "<h1><a href=\"https://nbviewer.jupyter.org/github/panayiotiska/Jupyter-Sentiment-Analysis-Video-games-reviews/blob/master/introduction.ipynb\" style=\"text-align:center;color:green;font-weight: bold;font-size: 150%;\">Start Navigation</a></h1>\n",
    "-->"
   ]
  },
  {
   "cell_type": "markdown",
   "metadata": {},
   "source": [
    "<html>\n",
    "   <head>\n",
    "      <title>HTML Image as link</title>\n",
    "   </head>\n",
    "   <body>\n",
    "      Click the following button to start navigating:<br>\n",
    "      <a href=\"https://nbviewer.jupyter.org/github/panayiotiska/Jupyter-Sentiment-Analysis-Video-games-reviews/blob/master/Introduction.ipynb\">\n",
    "         <img alt=\"start\" src=\"figures/button_start-navigation.jpg\">\n",
    "      </a>\n",
    "   </body>\n",
    "</html>"
   ]
  },
  {
   "cell_type": "markdown",
   "metadata": {},
   "source": [
    "# Table of Contents\n",
    "\n",
    "## [1. Introduction](https://nbviewer.jupyter.org/github/panayiotiska/Jupyter-Sentiment-Analysis-Video-games-reviews/blob/master/Introduction.ipynb)\n",
    "- [Classification algorithms](https://nbviewer.jupyter.org/github/panayiotiska/Jupyter-Sentiment-Analysis-Video-games-reviews/blob/master/[Intro]Classification_algorithms.ipynb)\n",
    "- [Evaluation Metrics](https://nbviewer.jupyter.org/github/panayiotiska/Jupyter-Sentiment-Analysis-Video-games-reviews/blob/master/[Intro]Evaluation_metrics.ipynb)\n",
    "\n",
    "\n",
    "## [2. Data exploration](https://nbviewer.jupyter.org/github/panayiotiska/Jupyter-Sentiment-Analysis-Video-games-reviews/blob/master/[Data_Exploration]Data_Lookup.ipynb)\n",
    "- [Dataset lookup](https://nbviewer.jupyter.org/github/panayiotiska/Jupyter-Sentiment-Analysis-Video-games-reviews/blob/master/[Data_Exploration]Data_Lookup.ipynb)\n",
    "- [Visualization of ratings](https://nbviewer.jupyter.org/github/panayiotiska/Jupyter-Sentiment-Analysis-Video-games-reviews/blob/master/[Data_Exploration]Data_Visualization_ratings.ipynb)\n",
    "- [Visualization of reviews](https://nbviewer.jupyter.org/github/panayiotiska/Jupyter-Sentiment-Analysis-Video-games-reviews/blob/master/[Data_Exploration]Data_Visualization_reviews.ipynb)\n",
    "- [Word-clouds](https://nbviewer.jupyter.org/github/panayiotiska/Jupyter-Sentiment-Analysis-Video-games-reviews/blob/master/[Data_Exploration]Word-Clouds.ipynb)\n",
    "\n",
    "## [3. Sentiment Anlysis](https://nbviewer.jupyter.org/github/panayiotiska/Jupyter-Sentiment-Analysis-Video-games-reviews/blob/master/Code_Structure.ipynb)\n",
    "- [Code structure](https://nbviewer.jupyter.org/github/panayiotiska/Jupyter-Sentiment-Analysis-Video-games-reviews/blob/master/Code_Structure.ipynb)\n",
    "\n",
    "### [3.1 Vectorization](https://nbviewer.jupyter.org/github/panayiotiska/Jupyter-Sentiment-Analysis-Video-games-reviews/blob/master/Vectorization.ipynb)\n",
    "- [TF-IDF vectorizer](https://nbviewer.jupyter.org/github/panayiotiska/Jupyter-Sentiment-Analysis-Video-games-reviews/blob/master/Naive_Bayes_&_SVM_tfidfVectorizer.ipynb)\n",
    "- [Binary Hashing Vectorizer](https://nbviewer.jupyter.org/github/panayiotiska/Jupyter-Sentiment-Analysis-Video-games-reviews/blob/master/Naive_Bayes_&_SVM_HashingVectorizer_Binary.ipynb)\n",
    "- [Hashing Vectorizer](https://nbviewer.jupyter.org/github/panayiotiska/Jupyter-Sentiment-Analysis-Video-games-reviews/blob/master/Naive_Bayes_&_SVM_HashingVectorizer.ipynb)\n",
    "\n",
    "### [3.2 Stemming](https://nbviewer.jupyter.org/github/panayiotiska/Jupyter-Sentiment-Analysis-Video-games-reviews/blob/master/Stemming.ipynb)\n",
    "- [Lancaster Stemmer (Support Vector Machines - Hashing Vectorizer)](https://nbviewer.jupyter.org/github/panayiotiska/Jupyter-Sentiment-Analysis-Video-games-reviews/blob/master/SVM_HashingVectorizer-LancasterStemming.ipynb)\n",
    "- [Snowball Stemmer (Support Vector Machines - Hashing Vectorizer)](https://nbviewer.jupyter.org/github/panayiotiska/Jupyter-Sentiment-Analysis-Video-games-reviews/blob/master/SVM_HashingVectorizer-SnowballStemming.ipynb)<br /><br />\n",
    "- [Lancaster Stemmer (Naive Bayes - tfidf Vectorizer)](https://nbviewer.jupyter.org/github/panayiotiska/Jupyter-Sentiment-Analysis-Video-games-reviews/blob/master/Naive_Bayes_tfidfVectorizer-LancasterStemmer.ipynb)\n",
    "- [Snowball Stemmer (Naive Bayes - tfidf Vectorizer)](https://nbviewer.jupyter.org/github/panayiotiska/Jupyter-Sentiment-Analysis-Video-games-reviews/blob/master/Naive_Bayes_tfidfVectorizer-SnowballStemmer.ipynb)\n",
    "\n",
    "### [3.3 Balance Classes](https://nbviewer.jupyter.org/github/panayiotiska/Jupyter-Sentiment-Analysis-Video-games-reviews/blob/master/Balance_Classes.ipynb)\n",
    "- [Over-Sampling (Naive Bayes - tfidf Vectorizer)](https://nbviewer.jupyter.org/github/panayiotiska/Jupyter-Sentiment-Analysis-Video-games-reviews/blob/master/Naive_Bayes_tfidfVectorizer_Over-Sampling-Smote.ipynb)\n",
    "- [Under-Sampling (Naive Bayes - tfidf Vectorizer)](https://nbviewer.jupyter.org/github/panayiotiska/Jupyter-Sentiment-Analysis-Video-games-reviews/blob/master/Naive_Bayes_tfidfVectorizer_Under-Sampling_TomekLinks.ipynb)<br /><br />\n",
    "- [Under-Sampling (Support Vector Machines - Hashing Vectorizer)](https://nbviewer.jupyter.org/github/panayiotiska/Jupyter-Sentiment-Analysis-Video-games-reviews/blob/master/SVM_HashingVectorizer_Under_Sampling_TomekLinks.ipynb)\n",
    "- [Under-Sampling Majority (Support Vector Machines - Hashing Vectorizer)](https://nbviewer.jupyter.org/github/panayiotiska/Jupyter-Sentiment-Analysis-Video-games-reviews/blob/master/SVM_HashingVectorizer_Under_Sampling_TomekLinks_Majority.ipynb)\n",
    "\n",
    "### [3.4 Part of speech Analysis](https://nbviewer.jupyter.org/github/panayiotiska/Jupyter-Sentiment-Analysis-Video-games-reviews/blob/master/Part_Of_Speech.ipynb)\n",
    "- [Only Adjectives analysis (Support Vector Machines - Hashing Vectorizer)](https://nbviewer.jupyter.org/github/panayiotiska/Jupyter-Sentiment-Analysis-Video-games-reviews/blob/master/SVM_HashingVectorizer_Adjectives.ipynb)\n",
    "- [Adjectives and Nouns analysis (Support Vector Machines - Hashing Vectorizer)](https://nbviewer.jupyter.org/github/panayiotiska/Jupyter-Sentiment-Analysis-Video-games-reviews/blob/master/SVM_HashingVectorizer_Adjectives&nouns.ipynb)\n",
    "- [Adjectives and Adverbs analysis (Support Vector Machines - Hashing Vectorizer)](https://nbviewer.jupyter.org/github/panayiotiska/Jupyter-Sentiment-Analysis-Video-games-reviews/blob/master/SVM_HashingVectorizer_Adjectives&Adverbs.ipynb)\n",
    "\n",
    "### [3.5 Objective Analysis based on the exploration](https://nbviewer.jupyter.org/github/panayiotiska/Jupyter-Sentiment-Analysis-Video-games-reviews/blob/master/SVM_HashingVectorizer_Under_Sampling_TomekLinks-Regex.ipynb)\n",
    "- [Regular Expressions and Stopwords (Support Vector Machines - Hashing Vectorizer - TomekLinks)](https://nbviewer.jupyter.org/github/panayiotiska/Jupyter-Sentiment-Analysis-Video-games-reviews/blob/master/SVM_HashingVectorizer_Under_Sampling_TomekLinks-Regex.ipynb)\n",
    "\n",
    "## [4. Results and Conclusion](https://nbviewer.jupyter.org/github/panayiotiska/Jupyter-Sentiment-Analysis-Video-games-reviews/blob/master/Results&Conclusion.ipynb)\n",
    "\n",
    "## [References](https://nbviewer.jupyter.org/github/panayiotiska/Jupyter-Sentiment-Analysis-Video-games-reviews/blob/master/References.ipynb)"
   ]
  }
 ],
 "metadata": {
  "anaconda-cloud": {},
  "kernelspec": {
   "display_name": "Python 3",
   "language": "python",
   "name": "python3"
  },
  "language_info": {
   "codemirror_mode": {
    "name": "ipython",
    "version": 3
   },
   "file_extension": ".py",
   "mimetype": "text/x-python",
   "name": "python",
   "nbconvert_exporter": "python",
   "pygments_lexer": "ipython3",
   "version": "3.6.5"
  },
  "latex_envs": {
   "LaTeX_envs_menu_present": true,
   "autoclose": false,
   "autocomplete": true,
   "bibliofile": "biblio.bib",
   "cite_by": "apalike",
   "current_citInitial": 1,
   "eqLabelWithNumbers": true,
   "eqNumInitial": 1,
   "hotkeys": {
    "equation": "Ctrl-E",
    "itemize": "Ctrl-I"
   },
   "labels_anchors": false,
   "latex_user_defs": false,
   "report_style_numbering": false,
   "user_envs_cfg": false
  }
 },
 "nbformat": 4,
 "nbformat_minor": 1
}
