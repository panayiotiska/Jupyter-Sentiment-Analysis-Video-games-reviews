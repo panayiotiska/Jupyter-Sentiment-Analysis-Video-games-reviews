{
 "cells": [
  {
   "cell_type": "markdown",
   "metadata": {},
   "source": [
    "<table>\n",
    "    <tr><td>\n",
    "         <a href=\"https://nbviewer.jupyter.org/github/panayiotiska/Jupyter-Sentiment-Analysis-Video-games-reviews/blob/master/Naive_Bayes_&_SVM_HashingVectorizer.ipynb\">\n",
    "         <img alt=\"start\" src=\"figures/button_previous.jpg\" width= 70% height= 70%>\n",
    "    </td><td>\n",
    "        <a href=\"https://nbviewer.jupyter.org/github/panayiotiska/Jupyter-Sentiment-Analysis-Video-games-reviews/blob/master/Index.ipynb\">\n",
    "         <img alt=\"start\" src=\"figures/button_table-of-contents.jpg\" width= 70% height= 70%>\n",
    "    </td><td>\n",
    "         <a href=\"https://nbviewer.jupyter.org/github/panayiotiska/Jupyter-Sentiment-Analysis-Video-games-reviews/blob/master/SVM_HashingVectorizer-LancasterStemming.ipynb\">\n",
    "         <img alt=\"start\" src=\"figures/button_next.jpg\" width= 70% height= 70%>\n",
    "    </td></tr>\n",
    "</table>"
   ]
  },
  {
   "cell_type": "markdown",
   "metadata": {},
   "source": [
    "# Stemming\n",
    "\n",
    "Stemming is a text normalization technique used to prepare text, words, and documents for further processing. In natural language, words are being modified in order to express different grammatical categories such as tense, case, voice, aspect, person, number, gender, and mood. In natural language processing and specifically in sentiment analysis it is important to examine the initial meaning of a word together with the frequency the word appears in a text. This technique resolves the problem of having different versions of the same word inside a corpora text by trying to transform words to their common root form.\n",
    "\n",
    "Usually the affected part of the words is the suffix thus most algorithms are simply cutting off some commonly used suffixes like \"s\", \"es\", \"ies\", \"ing\" and etc.\n",
    "\n",
    "- Examples of stemming:\n",
    "    - Playing &#8594; play\n",
    "    - Played  &#8594; play\n",
    "    - Plays   &#8594; play\n",
    "\n",
    "The algorithms being examined in the following notebooks are the Lancaster Stemmer and Snowball Stemmer."
   ]
  },
  {
   "cell_type": "markdown",
   "metadata": {},
   "source": [
    "### Lancaster Stemmer\n",
    "\n",
    "The Lancaster or Paice-Husk Stemmer was developed by Chris D Paice at Lancaster University and it is considered a very aggressive stemming algorithm at specifying the removal or replacement of an ending.\n",
    "\n",
    "The Lancaster stemmer is iterative, and uses just one table of rules; each rule may specify either deletion or replacement of an ending. The rules are grouped into sections corresponding to the final letter of the suffix; this means that the rule table is accessed quickly by looking up the final letter of the current word or truncated word.\n",
    "Within each section the ordering of the rules is significant. Some rules are restricted to intact words, i.e., words from which no ending has yet been removed. A simple blanket acceptability test is applied before any matching rule is activated. After a rule has been applied, processing may be allowed to continue iterafively, or may be terminated. \n",
    "\n",
    "#### The Lancaster stemming algorithm\n",
    "\n",
    "Inspects the final letter of the word, checks for all the rules in the implemented table, if the condition of the examined rule is satisfied (for example the final letter is the letter 's') and the word is not considered intact then the rule applies. The algorithm continues for all the words inside the corpora text.\n",
    "\n",
    "#### Example from the dataset :"
   ]
  },
  {
   "cell_type": "code",
   "execution_count": 3,
   "metadata": {},
   "outputs": [
    {
     "name": "stdout",
     "output_type": "stream",
     "text": [
      "If you like rally cars get this game you will have fun.It is more oriented to &#34;European market&#34; since here in America there isn't a huge rally fan party. Music it is very European and even the voices from the game very &#34;English&#34; accent.The multiplayer isn't the best but it works just ok.\n",
      "---------\n",
      "lik ral car get gam fun ory europ market sint americ hug ral fan party mus europ ev voic gam engl acc multiplay best work ok\n"
     ]
    }
   ],
   "source": [
    "import re\n",
    "import pandas as pd\n",
    "from nltk.corpus import stopwords\n",
    "from nltk.stem import LancasterStemmer\n",
    "\n",
    "dataset = pd.read_json(r\"C:\\Users\\Panos\\Desktop\\Dissert\\Code\\Sample_Video_Games_5.json\", lines=True, encoding='latin-1')\n",
    "dataset = dataset[['reviewText','overall']]\n",
    "\n",
    "corpus = []\n",
    "\n",
    "#Print initial form of a review\n",
    "print(dataset['reviewText'][1])\n",
    "\n",
    "# Clean the text and apply stemming\n",
    "for i in range(0, len(dataset)):\n",
    "    review = re.sub('[^a-zA-Z]', ' ', dataset['reviewText'][i])\n",
    "    review = review.lower()\n",
    "    review = review.split()\n",
    "    lc = LancasterStemmer()\n",
    "    review = [lc.stem(word) for word in review if not word in set(stopwords.words('english'))]\n",
    "    review = [word for word in review if not word in set(stopwords.words('english'))]\n",
    "    review = ' '.join(review)\n",
    "    corpus.append(review)\n",
    "\n",
    "# Print review after stemming\n",
    "print(\"---------\")\n",
    "print(corpus[1])"
   ]
  },
  {
   "cell_type": "markdown",
   "metadata": {},
   "source": [
    "*By printing a specific review from the dataset before and after applying stemming with the Lancaster Stemmer, it is clearly prooved that the algorithm is aggresive as it cuts a significant part of every word. This is not always a bad thing because it can match together more words coming out of the same root, however, sometimes the final form of two different words can end up be the same which is not a good thing for a sentiment analysis task*"
   ]
  },
  {
   "cell_type": "markdown",
   "metadata": {},
   "source": [
    "### Snowball Stemmer\n",
    "\n",
    "Nltk's Snoball Stemmer is the updated version of the Porter Stemmer, also known as Porter2. Porter2 is a suffix-stripping stemmer. It transforms words into stems by applying a deterministic sequence of changes to the final portion of the word. \n",
    "\n",
    "\n",
    "#### The Snowball stemming algorithm\n",
    "\n",
    "The original algorithm (Porter1) consists of 5 phases of word reduction. Each phase has a set of rules written beneath each other, among which only one is obeyed.\n",
    "First a condition loosely checks the number of syllables to see whether a word is long enough to replace the suffix or not.\n",
    "Next, every rule's condition is checked and if the condition is satisfied the token is getting reformed.\n",
    "\n",
    "Later, Dr. Porter himself has suggested several improvements to the original algorithm.\n",
    "The changes made are :\n",
    "- Terminating ‘y’ changed to ‘i’ seldom occurrence.\n",
    "- Suffix ‘us’ does not lose its ‘s’.\n",
    "- Removal of additional suffixes, including suffix ‘ly’.\n",
    "- Add step 0 to handle apostrophe.\n",
    "- A small list of exceptional forms is included.\n",
    "\n",
    "\n",
    "\n",
    "#### Example from the dataset :"
   ]
  },
  {
   "cell_type": "code",
   "execution_count": 4,
   "metadata": {},
   "outputs": [
    {
     "name": "stdout",
     "output_type": "stream",
     "text": [
      "---------\n",
      "like ralli car get game fun orient european market sinc america huge ralli fan parti music european even voic game english accent multiplay best work ok\n"
     ]
    }
   ],
   "source": [
    "import re\n",
    "import pandas as pd\n",
    "from nltk.corpus import stopwords\n",
    "from nltk.stem.snowball  import SnowballStemmer\n",
    "\n",
    "dataset = pd.read_json(r\"C:\\Users\\Panos\\Desktop\\Dissert\\Code\\Sample_Video_Games_5.json\", lines=True, encoding='latin-1')\n",
    "dataset = dataset[['reviewText','overall']]\n",
    "\n",
    "corpus = []\n",
    "\n",
    "# Clean the text and apply stemming\n",
    "for i in range(0, len(dataset)):\n",
    "    review = re.sub('[^a-zA-Z]', ' ', dataset['reviewText'][i])\n",
    "    review = review.lower()\n",
    "    review = review.split()\n",
    "    sb = SnowballStemmer(\"english\")\n",
    "    review = [sb.stem(word) for word in review if not word in set(stopwords.words('english'))]\n",
    "    review = [word for word in review if not word in set(stopwords.words('english'))]\n",
    "    review = ' '.join(review)\n",
    "    corpus.append(review)\n",
    "\n",
    "# Print review after stemming\n",
    "print(\"---------\")\n",
    "print(corpus[1])"
   ]
  },
  {
   "cell_type": "markdown",
   "metadata": {},
   "source": [
    "*In comparison with the Lancaster stemmer the Snowball stemmer seem that does a much \"cleaner\" stemming, extracting words in a more falimiar for the human form. Although, in order to see which algorithm acts better in the type of task examined in this project, the two algorithms have to be tested using the whole dataset. In the next four notebooks the stemming algorithms are being tested for different cases.*"
   ]
  },
  {
   "cell_type": "markdown",
   "metadata": {},
   "source": [
    "<a href=\"https://nbviewer.jupyter.org/github/panayiotiska/Jupyter-Sentiment-Analysis-Video-games-reviews/blob/master/SVM_HashingVectorizer-LancasterStemming.ipynb\">\n",
    "         <img alt=\"start\" src=\"figures/button_next.jpg\">"
   ]
  }
 ],
 "metadata": {
  "kernelspec": {
   "display_name": "Python 3",
   "language": "python",
   "name": "python3"
  },
  "language_info": {
   "codemirror_mode": {
    "name": "ipython",
    "version": 3
   },
   "file_extension": ".py",
   "mimetype": "text/x-python",
   "name": "python",
   "nbconvert_exporter": "python",
   "pygments_lexer": "ipython3",
   "version": "3.6.5"
  },
  "latex_envs": {
   "LaTeX_envs_menu_present": true,
   "autoclose": false,
   "autocomplete": true,
   "bibliofile": "biblio.bib",
   "cite_by": "apalike",
   "current_citInitial": 1,
   "eqLabelWithNumbers": true,
   "eqNumInitial": 1,
   "hotkeys": {
    "equation": "Ctrl-E",
    "itemize": "Ctrl-I"
   },
   "labels_anchors": false,
   "latex_user_defs": false,
   "report_style_numbering": false,
   "user_envs_cfg": false
  }
 },
 "nbformat": 4,
 "nbformat_minor": 2
}
