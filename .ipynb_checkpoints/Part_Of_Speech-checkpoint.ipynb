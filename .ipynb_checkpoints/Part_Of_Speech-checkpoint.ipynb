{
 "cells": [
  {
   "cell_type": "markdown",
   "metadata": {},
   "source": [
    "<table>\n",
    "    <tr><td>\n",
    "         <a href=\"https://nbviewer.jupyter.org/github/panayiotiska/Jupyter-Sentiment-Analysis-Video-games-reviews/blob/master/SVM_HashingVectorizer_Under_Sampling_TomekLinks_Majority.ipynb\">\n",
    "         <img alt=\"start\" src=\"figures/button_previous.jpg\" width= 70% height= 70%>\n",
    "    </td><td>\n",
    "        <a href=\"https://nbviewer.jupyter.org/github/panayiotiska/Jupyter-Sentiment-Analysis-Video-games-reviews/blob/master/Index.ipynb\">\n",
    "         <img alt=\"start\" src=\"figures/button_table-of-contents.jpg\" width= 70% height= 70%>\n",
    "    </td><td>\n",
    "         <a href=\"https://nbviewer.jupyter.org/github/panayiotiska/Jupyter-Sentiment-Analysis-Video-games-reviews/blob/master/SVM_HashingVectorizer_Adjectives.ipynb\">\n",
    "         <img alt=\"start\" src=\"figures/button_next.jpg\" width= 70% height= 70%>\n",
    "    </td></tr>\n",
    "</table>"
   ]
  },
  {
   "cell_type": "markdown",
   "metadata": {},
   "source": [
    "<h1 style=\"display: inline;\">Part of speech analysis</h1>[14][15]\n",
    "\n",
    "Part of Speech are the structural elements of a text document, such as verbs, nouns, adjectives, and adverbs. The impact of different part-of-speech tags usually vary, especially for a sentiment analysis task. To effectively classify text by sentiment, the meaning of the subjective terms must be captured. Intuitively, one might expect that adjectives would be strong indicators of sentiment. Other part-of-speech categories such as nouns and adverbs are also symbolic and contribute to subjectivity.\n",
    "\n",
    "### Adjectives\n",
    "An adjective describes, modifies or gives more information about a noun or pronoun.\n",
    "\n",
    "Examples: big, happy, green, young, fun, crazy, three\n",
    "\n",
    "Example sentences: This game made me so **happy**(adj).\n",
    "\n",
    "*As examined in the 'Word-Clouds' notebook, some of the most important adjectives for the current dataset are \"good\", \"much\", \"great\", \"first\", \"little\", \"bad\" which undoubtedly express sentiments.*\n",
    "\n",
    "### Adjectives and nouns\n",
    "Adjectives are one of the main parts of speech of the English language, although historically they were classed together with nouns.\n",
    "\n",
    "A noun is the name of a person, place, thing or idea.\n",
    "\n",
    "Examples of nouns: Steve, London, table, dog, teacher, pen, city, happiness, hope\n",
    "\n",
    "Example sentences: This video-game really **crazy**(adj), really boosted my **happiness**(noun).\n",
    "\n",
    "*As examined in the 'Word-Clouds' notebook, some of the most important nouns for the current dataset are \"way\", \"thing\", \"time\", \"people\", \"problem\", \"anything\" which in a way can increase or reduce the emphasis expressed from an adjective.*\n",
    "\n",
    "### Adjectives and adverbs\n",
    "An adverb describes/modifies a verb, an adjective or another adverb. It tells how, where, when, how often or to what extent.\n",
    "\n",
    "Examples: slowly, quietly, very, always, never, too, well, tomorrow, here\n",
    "\n",
    "Example sentences: The gameplay was **very**(adv) **fun**(adj).\n",
    "\n",
    "<br><br>\n",
    "*In the next three notebooks different approaches of isolating the most informative parts of speech are tested.*"
   ]
  },
  {
   "cell_type": "markdown",
   "metadata": {},
   "source": [
    "<a href=\"https://nbviewer.jupyter.org/github/panayiotiska/Jupyter-Sentiment-Analysis-Video-games-reviews/blob/master/SVM_HashingVectorizer_Adjectives.ipynb\">\n",
    "         <img alt=\"start\" src=\"figures/button_next.jpg\">"
   ]
  }
 ],
 "metadata": {
  "kernelspec": {
   "display_name": "Python 3",
   "language": "python",
   "name": "python3"
  },
  "language_info": {
   "codemirror_mode": {
    "name": "ipython",
    "version": 3
   },
   "file_extension": ".py",
   "mimetype": "text/x-python",
   "name": "python",
   "nbconvert_exporter": "python",
   "pygments_lexer": "ipython3",
   "version": "3.6.5"
  },
  "latex_envs": {
   "LaTeX_envs_menu_present": true,
   "autoclose": false,
   "autocomplete": true,
   "bibliofile": "biblio.bib",
   "cite_by": "apalike",
   "current_citInitial": 1,
   "eqLabelWithNumbers": true,
   "eqNumInitial": 1,
   "hotkeys": {
    "equation": "Ctrl-E",
    "itemize": "Ctrl-I"
   },
   "labels_anchors": false,
   "latex_user_defs": false,
   "report_style_numbering": false,
   "user_envs_cfg": false
  }
 },
 "nbformat": 4,
 "nbformat_minor": 4
}
