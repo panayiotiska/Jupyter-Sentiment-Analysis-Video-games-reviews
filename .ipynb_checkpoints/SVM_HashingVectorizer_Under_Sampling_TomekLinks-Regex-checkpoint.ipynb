{
 "cells": [
  {
   "cell_type": "markdown",
   "metadata": {},
   "source": [
    "<table>\n",
    "    <tr><td>\n",
    "         <a href=\"https://nbviewer.jupyter.org/github/panayiotiska/Jupyter-Sentiment-Analysis-Video-games-reviews/blob/master/SVM_HashingVectorizer_Adjectives&Adverbs.ipynb\">\n",
    "         <img alt=\"start\" src=\"figures/button_previous.jpg\" width= 70% height= 70%>\n",
    "    </td><td>\n",
    "        <a href=\"https://nbviewer.jupyter.org/github/panayiotiska/Jupyter-Sentiment-Analysis-Video-games-reviews/blob/master/Index.ipynb\">\n",
    "         <img alt=\"start\" src=\"figures/button_table-of-contents.jpg\" width= 70% height= 70%>\n",
    "    </td><td>\n",
    "         <a href=\"https://nbviewer.jupyter.org/github/panayiotiska/Jupyter-Sentiment-Analysis-Video-games-reviews/blob/master/Results%26Conclusion.ipynb\">\n",
    "         <img alt=\"start\" src=\"figures/button_next.jpg\" width= 70% height= 70%>\n",
    "    </td></tr>\n",
    "</table>"
   ]
  },
  {
   "cell_type": "code",
   "execution_count": 9,
   "metadata": {},
   "outputs": [],
   "source": [
    "import pandas as pd\n",
    "from nltk.corpus import stopwords\n",
    "from sklearn.preprocessing import LabelEncoder\n",
    "from sklearn.feature_extraction.text import HashingVectorizer\n",
    "from sklearn import model_selection, naive_bayes, svm\n",
    "from sklearn.metrics import accuracy_score\n",
    "from collections import Counter\n",
    "\n",
    "import warnings\n",
    "warnings.filterwarnings('ignore')\n",
    "\n",
    "#[1] Importing dataset\n",
    "\n",
    "dataset = pd.read_json(r\"C:\\Users\\Panos\\Desktop\\Dissert\\Code\\Video_Games_5.json\", lines=True, encoding='latin-1')\n",
    "dataset = dataset[['reviewText','overall']]\n",
    "\n",
    "#[2] Reduce number of classes\n",
    "\n",
    "ratings = []\n",
    "for index,entry in enumerate(dataset['overall']):\n",
    "    if entry == 1.0 or entry == 2.0:\n",
    "        ratings.append(-1)\n",
    "    elif entry == 3.0:\n",
    "        ratings.append(0)\n",
    "    elif entry == 4.0 or entry == 5.0:\n",
    "        ratings.append(1)"
   ]
  },
  {
   "cell_type": "code",
   "execution_count": 10,
   "metadata": {},
   "outputs": [
    {
     "name": "stderr",
     "output_type": "stream",
     "text": [
      "[nltk_data] Downloading package stopwords to\n",
      "[nltk_data]     C:\\Users\\Panos\\AppData\\Roaming\\nltk_data...\n",
      "[nltk_data]   Package stopwords is already up-to-date!\n"
     ]
    },
    {
     "name": "stdout",
     "output_type": "stream",
     "text": [
      "An example after cleaning the text: \n",
      "\n",
      "This game is bug landFirst had problems installing because it required some windows market software. Then it did not have any voice sounds. Then it was running on windowed mode only. Now, everytime I end a track it just crashes the computer (BSoD).I give up. Codemasters, next time, dont rush a game out just because you have to. Test the game! If not for yourself for Colin himself. If he was alive he would be embarrassed.And don't buy the game using Steam because if it does not work, Steam will show you the finger :)\n",
      "---------\n",
      "bug landfirst problems installing required windows market software  nothave voice sounds  running windowed mode only  now  everytime end track crashes computer  bsod  i give up  codemasters  next time  dont rush to  test emphasis notfor colin himself  alive would embarrassed and notbuy using steam notwork  steam show finger smiley\n"
     ]
    }
   ],
   "source": [
    "#[3] Cleaning the text\n",
    "\n",
    "import re\n",
    "import nltk\n",
    "import itertools\n",
    "nltk.download('stopwords')\n",
    "from nltk.corpus import stopwords\n",
    "\n",
    "corpus = []\n",
    "tags = {\":‑(\":\"sad\",\n",
    "            \":(\":\"sad\",\n",
    "            \":/\":\"sad\",\n",
    "            \":'(\":\"sad\",\n",
    "            \":[\":\"sad\",\n",
    "           \":‑)\":\"smiley\",\n",
    "            \":)\":\"smiley\",\n",
    "            \":D\":\"smiley\",\n",
    "            \":]\":\"smiley\",\n",
    "            \":@\":\"angry\",\n",
    "            \"-.-\":\"angry\"\n",
    "            }\n",
    "\n",
    "print(\"An example after cleaning the text: \\n\")\n",
    "print(dataset['reviewText'][18])\n",
    "\n",
    "for i in range(0, len(dataset)):\n",
    "    review = re.sub(r'\\w+:\\/{2}[\\d\\w-]+(\\.[\\d\\w-]+)*(?:(?:\\/[^\\s/]*))*', '', str(dataset['reviewText'][i])) #remove URLs starting with https://\n",
    "    review = re.sub(r'not a *', 'not',review) #not love -> notlove\n",
    "    review = re.sub(r'not *', 'not',review) #not love -> notlove\n",
    "    review = re.sub(r\"\\w+n't \", 'not',review) #didn't love -> notlove\n",
    "    review = re.sub(r\"!\", ' emphasis',review) # ! -> emphasis\n",
    "    review = ''.join(''.join(s)[:2] for _, s in itertools.groupby(review)) #each character should occur not more than 2 times in every word\n",
    "    \n",
    "    review = review.lower()\n",
    "    review = review.split()\n",
    "\n",
    "    review = [tags[word] if word in tags else word for word in review] #reform tags/emojis\n",
    "\n",
    "    my_stopwords = stopwords.words('english')\n",
    "    my_stopwords.extend(['game','games', 'play', 'played', 'playing','ve']) #add custom stopwords\n",
    "\n",
    "    review = [word for word in review if not word in my_stopwords] # *Considers not as a stopword*\n",
    "    review = ' '.join(review)\n",
    "    review = re.sub('[^a-zA-Z0-9]', ' ',review)\n",
    "    corpus.append(review)\n",
    "   \n",
    "print(\"---------\")\n",
    "print(corpus[18])"
   ]
  },
  {
   "cell_type": "code",
   "execution_count": 11,
   "metadata": {},
   "outputs": [
    {
     "name": "stdout",
     "output_type": "stream",
     "text": [
      "dict_values([122575, 19724, 19947])\n"
     ]
    }
   ],
   "source": [
    "#[4] Prepare Train and Test Data sets\n",
    "            \n",
    "Train_X, Test_X, Train_Y, Test_Y = model_selection.train_test_split(corpus,ratings,test_size=0.3)\n",
    "\n",
    "print(Counter(Train_Y).values()) # counts the elements' frequency"
   ]
  },
  {
   "cell_type": "code",
   "execution_count": 12,
   "metadata": {},
   "outputs": [],
   "source": [
    "#[5] Encoding\n",
    "\n",
    "Encoder = LabelEncoder()\n",
    "Train_Y = Encoder.fit_transform(Train_Y)\n",
    "Test_Y = Encoder.fit_transform(Test_Y)"
   ]
  },
  {
   "cell_type": "code",
   "execution_count": 13,
   "metadata": {},
   "outputs": [],
   "source": [
    "#[6] Word Vectorization\n",
    "        \n",
    "Hashing_vect = HashingVectorizer(alternate_sign=False)\n",
    "Hashing_vect.fit(corpus)\n",
    "Train_X_Hashing = Hashing_vect.transform(Train_X)\n",
    "Test_X_Hashing = Hashing_vect.transform(Test_X)"
   ]
  },
  {
   "cell_type": "code",
   "execution_count": 14,
   "metadata": {},
   "outputs": [],
   "source": [
    "#[7] Under Sampling\n",
    "\n",
    "# Perform under-sampling by removing Tomek’s links\n",
    "from imblearn.under_sampling import TomekLinks\n",
    "    \n",
    "tl = TomekLinks()\n",
    "#Train_Y = Train_Y.transpose()\n",
    "X_tl, y_tl = tl.fit_resample(Train_X_Hashing, Train_Y)"
   ]
  },
  {
   "cell_type": "code",
   "execution_count": 15,
   "metadata": {},
   "outputs": [
    {
     "name": "stdout",
     "output_type": "stream",
     "text": [
      "-----------------Support Vector Machine CM------------------\n",
      "\n",
      "Accuracy Score ->  82.95653924698708\n",
      "\n",
      " [[ 5152   740  2677]\n",
      " [ 1313  1481  5757]\n",
      " [  795   569 51050]] \n",
      "\n",
      "              precision    recall  f1-score   support\n",
      "\n",
      "    Positive       0.71      0.60      0.65      8569\n",
      "     Neutral       0.53      0.17      0.26      8551\n",
      "    Negative       0.86      0.97      0.91     52414\n",
      "\n",
      "    accuracy                           0.83     69534\n",
      "   macro avg       0.70      0.58      0.61     69534\n",
      "weighted avg       0.80      0.83      0.80     69534\n",
      "\n"
     ]
    }
   ],
   "source": [
    "#[8] Use the Support Vector Machine Algorithms to Predict the outcome\n",
    "\n",
    "from sklearn.metrics import confusion_matrix\n",
    "from sklearn.metrics import classification_report\n",
    "\n",
    "my_tags = ['Positive','Neutral','Negative']\n",
    "\n",
    "# Classifier - Algorithm - SVM\n",
    "# fit the training dataset on the classifier\n",
    "SVM = svm.SVC(C=1.0, kernel='linear', degree=3, gamma='auto')\n",
    "SVM.fit(X_tl,y_tl)\n",
    "# predict the labels on validation dataset\n",
    "predictions_SVM = SVM.predict(Test_X_Hashing)\n",
    "\n",
    "# Use accuracy_score function to get the accuracy\n",
    "print(\"-----------------Support Vector Machine CM------------------\\n\")\n",
    "print(\"Accuracy Score -> \",accuracy_score(predictions_SVM, Test_Y)*100)\n",
    "cm = confusion_matrix(Test_Y, predictions_SVM)\n",
    "# Making the confusion matrix\n",
    "print(\"\\n\",cm,\"\\n\")\n",
    "# Printing a classification report of different metrics\n",
    "print(classification_report(Test_Y, predictions_SVM,target_names=my_tags))\n",
    "\n",
    "# Export reports to files for later visualizations\n",
    "report_SVM = classification_report(Test_Y, predictions_SVM,target_names=my_tags, output_dict=True)\n",
    "report_SVM_df = pd.DataFrame(report_SVM).transpose()\n",
    "report_SVM_df.to_csv(r'SVM_report_HashingVect_Binary_TomekLinks_Regex.csv', index = True, float_format=\"%.3f\")"
   ]
  },
  {
   "cell_type": "code",
   "execution_count": 18,
   "metadata": {},
   "outputs": [
    {
     "data": {
      "image/png": "[encoded data removed]",
      "text/plain": [
       "<Figure size 396x288 with 2 Axes>"
      ]
     },
     "metadata": {
      "needs_background": "light"
     },
     "output_type": "display_data"
    }
   ],
   "source": [
    "# [9] Plot the confusion matrix\n",
    "\n",
    "%matplotlib inline\n",
    "from matplotlib import pyplot as plt\n",
    "import seaborn as sns\n",
    "\n",
    "cm_df = pd.DataFrame(cm,\n",
    "                     index = ['Negative','Neutral','Positive'], \n",
    "                     columns = ['Negative','Neutral','Positive'])\n",
    "\n",
    "plt.figure(figsize=(5.5,4))\n",
    "ax = sns.heatmap(cm_df, annot=True,cmap='Blues', fmt='g')\n",
    "bottom, top = ax.get_ylim()\n",
    "ax.set_ylim(bottom + 0.5, top - 0.5)\n",
    "plt.title('SVM Linear Kernel \\nAccuracy:{0:.3f}'.format(accuracy_score(Test_Y, predictions_SVM)))\n",
    "plt.ylabel('True label')\n",
    "plt.xlabel('Predicted label')\n",
    "plt.show()"
   ]
  },
  {
   "cell_type": "markdown",
   "metadata": {},
   "source": [
    "<a href=\"https://nbviewer.jupyter.org/github/panayiotiska/Jupyter-Sentiment-Analysis-Video-games-reviews/blob/master/Results%26Conclusion.ipynb\">\n",
    "         <img alt=\"start\" src=\"figures/button_next.jpg\">"
   ]
  }
 ],
 "metadata": {
  "kernelspec": {
   "display_name": "Python 3",
   "language": "python",
   "name": "python3"
  },
  "language_info": {
   "codemirror_mode": {
    "name": "ipython",
    "version": 3
   },
   "file_extension": ".py",
   "mimetype": "text/x-python",
   "name": "python",
   "nbconvert_exporter": "python",
   "pygments_lexer": "ipython3",
   "version": "3.6.5"
  },
  "latex_envs": {
   "LaTeX_envs_menu_present": true,
   "autoclose": false,
   "autocomplete": true,
   "bibliofile": "biblio.bib",
   "cite_by": "apalike",
   "current_citInitial": 1,
   "eqLabelWithNumbers": true,
   "eqNumInitial": 1,
   "hotkeys": {
    "equation": "Ctrl-E",
    "itemize": "Ctrl-I"
   },
   "labels_anchors": false,
   "latex_user_defs": false,
   "report_style_numbering": false,
   "user_envs_cfg": false
  }
 },
 "nbformat": 4,
 "nbformat_minor": 2
}
