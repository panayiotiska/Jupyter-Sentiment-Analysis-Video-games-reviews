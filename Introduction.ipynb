{
 "cells": [
  {
   "cell_type": "markdown",
   "metadata": {},
   "source": [
    "<table>\n",
    "    <tr><td>\n",
    "         <img alt=\"start\" src=\"figures/button_unable_previous.jpg\" width= 70% height= 70%>\n",
    "    </td><td>\n",
    "        <a href=\"https://nbviewer.jupyter.org/github/panayiotiska/Jupyter-Sentiment-Analysis-Video-games-reviews/blob/master/Index.ipynb\">\n",
    "         <img alt=\"start\" src=\"figures/button_table-of-contents.jpg\" width= 70% height= 70%>\n",
    "    </td><td>\n",
    "         <a href=\"https://nbviewer.jupyter.org/github/panayiotiska/Jupyter-Sentiment-Analysis-Video-games-reviews/blob/master/[Intro]Classification_algorithms.ipynb\">\n",
    "         <img alt=\"start\" src=\"figures/button_next.jpg\" width= 70% height= 70%>\n",
    "    </td></tr>\n",
    "</table>"
   ]
  },
  {
   "cell_type": "markdown",
   "metadata": {},
   "source": [
    "<center> <h1>Introduction</h1> </center>\n",
    "<center> <h1>Natural Language Processing and Sentiment Analysis</h1> </center>\n",
    "<center> <h2>Panayiotis Kattides</h2> </center>"
   ]
  },
  {
   "cell_type": "markdown",
   "metadata": {},
   "source": [
    "### Abstract\n",
    "Sentiment analysis or opinion mining is one of the major tasks of NLP (Natural Language Processing). This notebook illustrates a sentiment analysis approach to extract sentiments associated with polarities of positive, neutral or negative for specific subjects from a dataset. The essential issues in sentiment analysis are to identify how sentiments are expressed in texts and whether the expressions indicate positive or negative opinions toward the subject. Data used in this study are online product reviews of video games collected from Amazon.com, the world's largest online marketplace. Customers are often satisfied or dissatisfied and accordingly reviewing the products. The two algorithms used for classification are Support Vector Machine and Naive Bayes working together with several python libraries such as NLTK."
   ]
  },
  {
   "cell_type": "markdown",
   "metadata": {},
   "source": [
    "### Dataset [1]\n",
    "The dataset used contains product reviews and metadata from Amazon, including 142.8 million reviews spanning May 1996 - July 2014. The subset used for this project includes reviews from the Amazon's category, Video games. The dataset is formed as a Json file including the following columns: \n",
    "\n",
    "- reviewerID - ID of the reviewer, e.g. A2SUAM1J3GNN3B\n",
    "- asin - ID of the product, e.g. 0000013714\n",
    "- reviewerName - name of the reviewer\n",
    "- helpful - helpfulness rating of the review, e.g. 2/3\n",
    "- reviewText - text of the review\n",
    "- overall - rating of the product\n",
    "- summary - summary of the review\n",
    "- unixReviewTime - time of the review (unix time)\n",
    "- reviewTime - time of the review (raw)\n",
    "\n",
    "A more specified data exploration will be done in next notebooks."
   ]
  },
  {
   "cell_type": "markdown",
   "metadata": {},
   "source": [
    "### Sentiment Analysis\n",
    "Sentiment analysis is contextual mining of text which identifies and extracts subjective information in source material. It is the most common text classification tool that analyses an incoming message with the help of machine learning. Machine learning for NLP and text analytics involves a set of statistical techniques for identifying parts of speech, entities, sentiment, and other aspects of text. Text data requires a special approach to machine learning. This is because text data can have hundreds of thousands of dimensions (words and phrases) but tends to be very sparse. For example, the English language has around 100,000 words in common use. But any given review only contains a few of them.\n",
    "The particular problem being examined includes the rating of each review together with the review text. The rating plays the role of the label that is the category it belongs. This fact makes this probelm a supervised machine learning problem. The reviews together with their ratings will be used in order to “train” a statistical model, which is then given un-labeled text to analyze and classify. Some of most popular supervised NLP machine learning algorithms are those to be used:\n",
    "- Naive Bayes Classifier\n",
    "- Support Vector Machines\n",
    "\n",
    "The two classifiers will be discussed in the next notebook."
   ]
  },
  {
   "cell_type": "markdown",
   "metadata": {},
   "source": [
    "### Project's goal\n",
    "The project's main goal is to experiment with different methods and techniques, frequently used in sentiment analysis and classification problems. Such techniques are vectorization, stemming, class-blancing, parts of speech filtering and etc.\n",
    "This project also aims to deal with a more objective analysis, taking into consideration as a big part of the project the data exploration; dealing with issues observed during that chapter. The poject is seperated in chapters, where in each chapter, a different technique is used using different algorithms or different problems are addressed and attempt to be solved. At the beginning of each chapter, the techniques to be used are being explained, in an as much, visually way possible. At the end of the project, all results are gathered together in order to extract a final overview and analyse the conclusions."
   ]
  },
  {
   "cell_type": "markdown",
   "metadata": {},
   "source": [
    "<a href=\"https://nbviewer.jupyter.org/github/panayiotiska/Jupyter-Sentiment-Analysis-Video-games-reviews/blob/master/[Intro]Classification_algorithms.ipynb\">\n",
    "         <img alt=\"start\" src=\"figures/button_next.jpg\">"
   ]
  }
 ],
 "metadata": {
  "author": "Bibliography management:\\\\texttt{thebibliography",
  "kernelspec": {
   "display_name": "Python 3",
   "language": "python",
   "name": "python3"
  },
  "language_info": {
   "codemirror_mode": {
    "name": "ipython",
    "version": 3
   },
   "file_extension": ".py",
   "mimetype": "text/x-python",
   "name": "python",
   "nbconvert_exporter": "python",
   "pygments_lexer": "ipython3",
   "version": "3.6.5"
  },
  "latex_envs": {
   "LaTeX_envs_menu_present": true,
   "autoclose": false,
   "autocomplete": true,
   "bibliofile": "biblio.bib",
   "cite_by": "apalike",
   "current_citInitial": 1,
   "eqLabelWithNumbers": true,
   "eqNumInitial": 1,
   "hotkeys": {
    "equation": "Ctrl-E",
    "itemize": "Ctrl-I"
   },
   "labels_anchors": false,
   "latex_user_defs": false,
   "report_style_numbering": false,
   "user_envs_cfg": false
  }
 },
 "nbformat": 4,
 "nbformat_minor": 2
}
