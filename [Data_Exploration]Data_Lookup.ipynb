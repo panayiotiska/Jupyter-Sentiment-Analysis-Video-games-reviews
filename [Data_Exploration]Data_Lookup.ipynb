{
 "cells": [
  {
   "cell_type": "markdown",
   "metadata": {},
   "source": [
    "<table>\n",
    "    <tr><td>\n",
    "         <a href=\"https://nbviewer.jupyter.org/github/panayiotiska/Jupyter-Sentiment-Analysis-Video-games-reviews/blob/master/Introduction.ipynb\">\n",
    "         <img alt=\"start\" src=\"figures/button_previous.jpg\" width= 70% height= 70%>\n",
    "    </td><td>\n",
    "        <a href=\"https://nbviewer.jupyter.org/github/panayiotiska/Jupyter-Sentiment-Analysis-Video-games-reviews/blob/master/Index.ipynb\">\n",
    "         <img alt=\"start\" src=\"figures/button_table-of-contents.jpg\" width= 70% height= 70%>\n",
    "    </td><td>\n",
    "         <a href=\"https://nbviewer.jupyter.org/github/panayiotiska/Jupyter-Sentiment-Analysis-Video-games-reviews/blob/master/[Data_Exploration]Data_Visualization_ratings.ipynb\">\n",
    "         <img alt=\"start\" src=\"figures/button_next.jpg\" width= 70% height= 70%>\n",
    "    </td></tr>\n",
    "</table>"
   ]
  },
  {
   "cell_type": "markdown",
   "metadata": {},
   "source": [
    "# Data lookup \n",
    "\n",
    "In this first section of the data exploration chapter, an initial data screening will be conducted with descriptive statistics in order to provide a high level understanding of the dataset.\n",
    "\n",
    "This dataset contains reviews and metadata of video-games sold in Amazon. It includes hundreds of thousands of reviews spanning May 1996 - July 2014."
   ]
  },
  {
   "cell_type": "code",
   "execution_count": 1,
   "metadata": {},
   "outputs": [
    {
     "data": {
      "text/html": [
       "<div>\n",
       "<style scoped>\n",
       "    .dataframe tbody tr th:only-of-type {\n",
       "        vertical-align: middle;\n",
       "    }\n",
       "\n",
       "    .dataframe tbody tr th {\n",
       "        vertical-align: top;\n",
       "    }\n",
       "\n",
       "    .dataframe thead th {\n",
       "        text-align: right;\n",
       "    }\n",
       "</style>\n",
       "<table border=\"1\" class=\"dataframe\">\n",
       "  <thead>\n",
       "    <tr style=\"text-align: right;\">\n",
       "      <th></th>\n",
       "      <th>reviewerID</th>\n",
       "      <th>asin</th>\n",
       "      <th>reviewerName</th>\n",
       "      <th>helpful</th>\n",
       "      <th>reviewText</th>\n",
       "      <th>overall</th>\n",
       "      <th>summary</th>\n",
       "      <th>unixReviewTime</th>\n",
       "      <th>reviewTime</th>\n",
       "    </tr>\n",
       "  </thead>\n",
       "  <tbody>\n",
       "    <tr>\n",
       "      <th>0</th>\n",
       "      <td>A2HD75EMZR8QLN</td>\n",
       "      <td>0700099867</td>\n",
       "      <td>123</td>\n",
       "      <td>[8, 12]</td>\n",
       "      <td>Installing the game was a struggle (because of...</td>\n",
       "      <td>1</td>\n",
       "      <td>Pay to unlock content? I don't think so.</td>\n",
       "      <td>1341792000</td>\n",
       "      <td>07 9, 2012</td>\n",
       "    </tr>\n",
       "    <tr>\n",
       "      <th>1</th>\n",
       "      <td>A3UR8NLLY1ZHCX</td>\n",
       "      <td>0700099867</td>\n",
       "      <td>Alejandro Henao \"Electronic Junky\"</td>\n",
       "      <td>[0, 0]</td>\n",
       "      <td>If you like rally cars get this game you will ...</td>\n",
       "      <td>4</td>\n",
       "      <td>Good rally game</td>\n",
       "      <td>1372550400</td>\n",
       "      <td>06 30, 2013</td>\n",
       "    </tr>\n",
       "    <tr>\n",
       "      <th>2</th>\n",
       "      <td>A1INA0F5CWW3J4</td>\n",
       "      <td>0700099867</td>\n",
       "      <td>Amazon Shopper \"Mr.Repsol\"</td>\n",
       "      <td>[0, 0]</td>\n",
       "      <td>1st shipment received a book instead of the ga...</td>\n",
       "      <td>1</td>\n",
       "      <td>Wrong key</td>\n",
       "      <td>1403913600</td>\n",
       "      <td>06 28, 2014</td>\n",
       "    </tr>\n",
       "  </tbody>\n",
       "</table>\n",
       "</div>"
      ],
      "text/plain": [
       "       reviewerID        asin                        reviewerName  helpful  \\\n",
       "0  A2HD75EMZR8QLN  0700099867                                 123  [8, 12]   \n",
       "1  A3UR8NLLY1ZHCX  0700099867  Alejandro Henao \"Electronic Junky\"   [0, 0]   \n",
       "2  A1INA0F5CWW3J4  0700099867          Amazon Shopper \"Mr.Repsol\"   [0, 0]   \n",
       "\n",
       "                                          reviewText  overall  \\\n",
       "0  Installing the game was a struggle (because of...        1   \n",
       "1  If you like rally cars get this game you will ...        4   \n",
       "2  1st shipment received a book instead of the ga...        1   \n",
       "\n",
       "                                    summary  unixReviewTime   reviewTime  \n",
       "0  Pay to unlock content? I don't think so.      1341792000   07 9, 2012  \n",
       "1                           Good rally game      1372550400  06 30, 2013  \n",
       "2                                 Wrong key      1403913600  06 28, 2014  "
      ]
     },
     "execution_count": 1,
     "metadata": {},
     "output_type": "execute_result"
    }
   ],
   "source": [
    "import pandas as pd\n",
    "import numpy as np\n",
    "\n",
    "#Reproduce the same result every time if the script is kept consistent otherwise each run will produce different results (for classification)\n",
    "np.random.seed(500)\n",
    "    \n",
    "#[1] Read the data\n",
    "Corpus = pd.read_json(r\"C:\\Users\\Panos\\Desktop\\Dissert\\Code\\Video_Games_5.json\", lines=True, encoding='latin-1')\n",
    "\n",
    "#Remove review with blank reviewText\n",
    "Corpus = Corpus[~Corpus['reviewText'].isnull()]\n",
    "\n",
    "#Print the first 3 rows\n",
    "Corpus.iloc[:3]"
   ]
  },
  {
   "cell_type": "markdown",
   "metadata": {},
   "source": [
    "As a first step, the data were imported from a JSON file. After that, an initial data screening was conducted in order to understand the data structure by printing out the first three rows of the dataset. It is noticeable that there are a few columns that can be assumed unnecessary for the main goal for this moment (reviewerID, reviewTime, etc.). Although, almost all columns can be useful for extracting information which can help improve the model later. The most important columns for classification, not only in natural language processing (NLP) are, first, the data which the model will be trained on in order to categorize every review into the second most important column, the labels. For this classification problem, those columns are 'reviewText' and 'overall'. For a row in the dataset, 'reviewText' includes a review that a user left for a specific product (video-game) and the 'overall' contains the rating he submitted for that product from one to five. In this case the model will 'decide' in which rating category a given review text would fit best. For the next step, it is important to print out some valuable counts from the dataset."
   ]
  },
  {
   "cell_type": "code",
   "execution_count": 2,
   "metadata": {},
   "outputs": [
    {
     "data": {
      "text/html": [
       "<div>\n",
       "<style scoped>\n",
       "    .dataframe tbody tr th:only-of-type {\n",
       "        vertical-align: middle;\n",
       "    }\n",
       "\n",
       "    .dataframe tbody tr th {\n",
       "        vertical-align: top;\n",
       "    }\n",
       "\n",
       "    .dataframe thead th {\n",
       "        text-align: right;\n",
       "    }\n",
       "</style>\n",
       "<table border=\"1\" class=\"dataframe\">\n",
       "  <thead>\n",
       "    <tr style=\"text-align: right;\">\n",
       "      <th></th>\n",
       "      <th>Description</th>\n",
       "      <th>Data</th>\n",
       "    </tr>\n",
       "  </thead>\n",
       "  <tbody>\n",
       "    <tr>\n",
       "      <th>0</th>\n",
       "      <td>Total reviews</td>\n",
       "      <td>231780</td>\n",
       "    </tr>\n",
       "    <tr>\n",
       "      <th>1</th>\n",
       "      <td>File size (MB)</td>\n",
       "      <td>304</td>\n",
       "    </tr>\n",
       "    <tr>\n",
       "      <th>2</th>\n",
       "      <td>Total number of unique video games</td>\n",
       "      <td>10672</td>\n",
       "    </tr>\n",
       "    <tr>\n",
       "      <th>3</th>\n",
       "      <td>Total number of unique reviewers</td>\n",
       "      <td>24303</td>\n",
       "    </tr>\n",
       "    <tr>\n",
       "      <th>4</th>\n",
       "      <td>Average number of reviews per user</td>\n",
       "      <td>9</td>\n",
       "    </tr>\n",
       "    <tr>\n",
       "      <th>5</th>\n",
       "      <td>Average number of reviews per videogame</td>\n",
       "      <td>21</td>\n",
       "    </tr>\n",
       "    <tr>\n",
       "      <th>6</th>\n",
       "      <td>Videogame with the minimum reviews</td>\n",
       "      <td>5</td>\n",
       "    </tr>\n",
       "    <tr>\n",
       "      <th>7</th>\n",
       "      <td>Videogame with the maximum reviews</td>\n",
       "      <td>802</td>\n",
       "    </tr>\n",
       "  </tbody>\n",
       "</table>\n",
       "</div>"
      ],
      "text/plain": [
       "                               Description    Data\n",
       "0                            Total reviews  231780\n",
       "1                           File size (MB)     304\n",
       "2       Total number of unique video games   10672\n",
       "3         Total number of unique reviewers   24303\n",
       "4       Average number of reviews per user       9\n",
       "5  Average number of reviews per videogame      21\n",
       "6       Videogame with the minimum reviews       5\n",
       "7       Videogame with the maximum reviews     802"
      ]
     },
     "execution_count": 2,
     "metadata": {},
     "output_type": "execute_result"
    }
   ],
   "source": [
    "import nltk\n",
    "from nltk.probability import FreqDist\n",
    "import os\n",
    "from collections import Counter\n",
    "import statistics\n",
    "\n",
    "#Calculate the total number of unique video games\n",
    "asinString = \" \".join(Corpus['asin'])\n",
    "tokens = nltk.word_tokenize(asinString)\n",
    "fdist = FreqDist(tokens)\n",
    "count_asin = len(fdist)\n",
    "\n",
    "# Calculate the total number of unique reviewers\n",
    "reviewerIDString = \" \".join(Corpus['reviewerID'])\n",
    "tokens = nltk.word_tokenize(reviewerIDString)\n",
    "fdist = FreqDist(tokens)\n",
    "count_reviewerID = len(fdist)\n",
    "\n",
    "# Set data in variables for the dataframe\n",
    "totalReviews = int(Corpus.shape[0])\n",
    "file_size = os.path.getsize(r\"C:\\Users\\Panos\\Desktop\\Dissert\\Code\\Video_Games_5.json\")\n",
    "fileSize = int(round((file_size/2**20),2))\n",
    "avgPerUser = int(round(statistics.mean(Counter(Corpus['reviewerID']).values()),2))\n",
    "avgPerVG = int(round(statistics.mean(Counter(Corpus['asin']).values()),2))\n",
    "minReviews = min(Counter(Corpus['asin']).values())\n",
    "maxReviews = max(Counter(Corpus['asin']).values())\n",
    "\n",
    "# Create a new dataframe to print a clear table\n",
    "d1 = {'Description': [\"Total reviews\",\n",
    "                      \"File size (MB)\",\n",
    "                      \"Total number of unique video games\",\n",
    "                      \"Total number of unique reviewers\",\n",
    "                      \"Average number of reviews per user\", \n",
    "                      \"Average number of reviews per videogame\",\n",
    "                      \"Videogame with the minimum reviews\",\n",
    "                      \"Videogame with the maximum reviews\"],\n",
    "      'Data': [totalReviews, fileSize, count_asin, count_reviewerID, avgPerUser, avgPerVG, minReviews, maxReviews]}\n",
    "\n",
    "df1 = pd.DataFrame(data=d1)\n",
    "df1"
   ]
  },
  {
   "cell_type": "markdown",
   "metadata": {},
   "source": [
    "The dataset consists of 231780 records which are not considered alot for a classification problem although it is enough data for building a model with a descent accuracy percent. Also, the dataset contains reviews from 10672 different games reviewed by 24303 different users which means that there is a variety of different personalities to help build a generic model."
   ]
  },
  {
   "cell_type": "code",
   "execution_count": 2,
   "metadata": {},
   "outputs": [],
   "source": [
    "#Save this session for the next notebook\n",
    "import dill\n",
    "dill.dump_session('notebook_env.db')"
   ]
  },
  {
   "cell_type": "markdown",
   "metadata": {},
   "source": [
    "In the following section a more detailed analysis will be done using data visualisation."
   ]
  },
  {
   "cell_type": "markdown",
   "metadata": {},
   "source": [
    "<a href=\"https://nbviewer.jupyter.org/github/panayiotiska/Jupyter-Sentiment-Analysis-Video-games-reviews/blob/master/[Data_Exploration]Data_Visualization_ratings.ipynb\">\n",
    "         <img alt=\"start\" src=\"figures/button_next.jpg\">"
   ]
  }
 ],
 "metadata": {
  "kernelspec": {
   "display_name": "Python 3",
   "language": "python",
   "name": "python3"
  },
  "language_info": {
   "codemirror_mode": {
    "name": "ipython",
    "version": 3
   },
   "file_extension": ".py",
   "mimetype": "text/x-python",
   "name": "python",
   "nbconvert_exporter": "python",
   "pygments_lexer": "ipython3",
   "version": "3.6.5"
  },
  "latex_envs": {
   "LaTeX_envs_menu_present": true,
   "autoclose": false,
   "autocomplete": true,
   "bibliofile": "biblio.bib",
   "cite_by": "apalike",
   "current_citInitial": 1,
   "eqLabelWithNumbers": true,
   "eqNumInitial": 1,
   "hotkeys": {
    "equation": "Ctrl-E",
    "itemize": "Ctrl-I"
   },
   "labels_anchors": false,
   "latex_user_defs": false,
   "report_style_numbering": false,
   "user_envs_cfg": false
  }
 },
 "nbformat": 4,
 "nbformat_minor": 2
}
