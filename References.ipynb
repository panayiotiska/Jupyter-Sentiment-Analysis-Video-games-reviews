{
 "cells": [
  {
   "cell_type": "markdown",
   "metadata": {},
   "source": [
    "<table>\n",
    "    <tr><td>\n",
    "         <a href=\"https://nbviewer.jupyter.org/github/panayiotiska/Jupyter-Sentiment-Analysis-Video-games-reviews/blob/master/Results%26Conclusion.ipynb\">\n",
    "         <img alt=\"start\" src=\"figures/button_previous.jpg\" width= 70% height= 70%>\n",
    "    </td><td>\n",
    "        <a href=\"https://nbviewer.jupyter.org/github/panayiotiska/Jupyter-Sentiment-Analysis-Video-games-reviews/blob/master/Index.ipynb\">\n",
    "         <img alt=\"start\" src=\"figures/button_table-of-contents.jpg\" width= 70% height= 70%>\n",
    "    </td><td>\n",
    "         <img alt=\"start\" src=\"figures/button_unable_next.jpg\" width= 70% height= 70%>\n",
    "    </td></tr>\n",
    "</table>"
   ]
  },
  {
   "cell_type": "markdown",
   "metadata": {},
   "source": [
    "<center> <h1>Refereces</h1> </center>\n",
    "<center> <h1>Natural Language Processing and Sentiment Analysis</h1> </center>\n",
    "<center> <h2>Panayiotis Kattides</h2> </center>"
   ]
  },
  {
   "cell_type": "markdown",
   "metadata": {},
   "source": [
    "### Scholars\n",
    "\n",
    "[1] Amazon product data, Julian McAuley, UCSD http://jmcauley.ucsd.edu/data/amazon/\n",
    "\n",
    "\n",
    "[2] Nayak, A. and Natarajan, D., 2016. Comparative Study of Naive Bayes, Support Vector Machine and Random Forest Classifiers in Sentiment Analysis of Twitter Feeds. International Journal of Advance Studies in Computer Science and Engineering (IJASCSE), 5(1), p.16.\n",
    "\n",
    "\n",
    "[3] Guyon, I., Weston, J., Barnhill, S. and Vapnik, V., 2002. Gene selection for cancer classification using support vector machines. Machine learning, 46(1-3), pp.389-422.\n",
    "\n",
    "\n",
    "[4] Chong, W.Y., Selvaretnam, B. and Soon, L.K., 2014, December. Natural language processing for sentiment analysis: an exploratory analysis on tweets. In 2014 4th International Conference on Artificial Intelligence with Applications in Engineering and Technology (pp. 212-217). IEEE.\n",
    "\n",
    "\n",
    "[5] Bird, S., Klein, E. and Loper, E., 2009. Natural language processing with python. OReilly Media. Reading, Massachusetts.\n",
    "\n",
    "\n",
    "[6] Nasukawa, T. and Yi, J., 2003, October. Sentiment analysis: Capturing favorability using natural language processing. In Proceedings of the 2nd international conference on Knowledge capture (pp. 70-77).\n",
    "\n",
    "\n",
    "[7] Fang, X. and Zhan, J., 2015. Sentiment analysis using product review data. Journal of Big Data, 2(1), p.5.\n",
    "\n",
    "\n",
    "[8] Westerski, A., 2007. Sentiment Analysis: Introduction and the State of the Art overview. Universidad Politecnica de Madrid, pp.211-218.\n",
    "\n",
    "\n",
    "[9] Pang, B., Lee, L. and Vaithyanathan, S., 2002, July. Thumbs up?: sentiment classification using machine learning techniques. In Proceedings of the ACL-02 conference on Empirical methods in natural language processing-Volume 10 (pp. 79-86). Association for Computational Linguistics.\n",
    "\n",
    "\n",
    "[10] Dey, A., Jenamani, M. and Thakkar, J.J., 2017, December. Lexical TF-IDF: An n-gram feature space for cross-domain classification of sentiment reviews. In International Conference on Pattern Recognition and Machine Intelligence (pp. 380-386). Springer, Cham.\n",
    "\n",
    "\n",
    "[11] Sirsat, S.R., Chavan, V. and Mahalle, H.S., 2013. Strength and accuracy analysis of affix removal stemming algorithms. International Journal of Computer Science and Information Technologies, 4(2), pp.265-269.\n",
    "\n",
    "\n",
    "[12] Paice, C.D., 1990, November. Another stemmer. In ACM Sigir Forum (Vol. 24, No. 3, pp. 56-61). New York, NY, USA: ACM.\n",
    "\n",
    "\n",
    "[13] Mountassir, A., Benbrahim, H. and Berrada, I., 2012, October. An empirical study to address the problem of unbalanced data sets in sentiment classification. In 2012 IEEE international conference on systems, man, and cybernetics (SMC) (pp. 3298-3303). IEEE.\n",
    "\n",
    "\n",
    "[14] Nicholls, C. and Song, F., 2009, July. Improving sentiment analysis with part-of-speech weighting. In 2009 International Conference on Machine Learning and Cybernetics (Vol. 3, pp. 1592-1597). IEEE.\n",
    "\n",
    "\n",
    "[15] Benamara, F., Cesarano, C., Picariello, A., Recupero, D.R. and Subrahmanian, V.S., 2007. Sentiment analysis: Adjectives and adverbs are better than adjectives alone. ICWSM, 7, pp.203-206."
   ]
  }
 ],
 "metadata": {
  "author": "Bibliography management:\\\\texttt{thebibliography",
  "kernelspec": {
   "display_name": "Python 3",
   "language": "python",
   "name": "python3"
  },
  "language_info": {
   "codemirror_mode": {
    "name": "ipython",
    "version": 3
   },
   "file_extension": ".py",
   "mimetype": "text/x-python",
   "name": "python",
   "nbconvert_exporter": "python",
   "pygments_lexer": "ipython3",
   "version": "3.6.5"
  },
  "latex_envs": {
   "LaTeX_envs_menu_present": true,
   "autoclose": false,
   "autocomplete": true,
   "bibliofile": "biblio.bib",
   "cite_by": "apalike",
   "current_citInitial": 1,
   "eqLabelWithNumbers": true,
   "eqNumInitial": 1,
   "hotkeys": {
    "equation": "Ctrl-E",
    "itemize": "Ctrl-I"
   },
   "labels_anchors": false,
   "latex_user_defs": false,
   "report_style_numbering": false,
   "user_envs_cfg": false
  }
 },
 "nbformat": 4,
 "nbformat_minor": 2
}
