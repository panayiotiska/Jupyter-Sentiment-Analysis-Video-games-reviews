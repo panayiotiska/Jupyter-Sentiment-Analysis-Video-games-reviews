{
 "cells": [
  {
   "cell_type": "markdown",
   "metadata": {},
   "source": [
    "<table>\n",
    "    <tr><td>\n",
    "         <a href=\"https://nbviewer.jupyter.org/github/panayiotiska/Jupyter-Sentiment-Analysis-Video-games-reviews/blob/master/Naive_Bayes_tfidfVectorizer-SnowballStemmer.ipynb\">\n",
    "         <img alt=\"start\" src=\"figures/button_previous.jpg\" width= 70% height= 70%>\n",
    "    </td><td>\n",
    "        <a href=\"https://nbviewer.jupyter.org/github/panayiotiska/Jupyter-Sentiment-Analysis-Video-games-reviews/blob/master/Index.ipynb\">\n",
    "         <img alt=\"start\" src=\"figures/button_table-of-contents.jpg\" width= 70% height= 70%>\n",
    "    </td><td>\n",
    "         <a href=\"https://nbviewer.jupyter.org/github/panayiotiska/Jupyter-Sentiment-Analysis-Video-games-reviews/blob/master/Naive_Bayes_tfidfVectorizer_Over-Sampling-Smote.ipynb\">\n",
    "         <img alt=\"start\" src=\"figures/button_next.jpg\" width= 70% height= 70%>\n",
    "    </td></tr>\n",
    "</table>"
   ]
  },
  {
   "cell_type": "markdown",
   "metadata": {},
   "source": [
    "<h1 style=\"display: inline;\">Imbalanced Classification</h1>[13]\n",
    "\n",
    "A classification problem where the distribution of examples across the known classes is biased or skewed is considered imbalanced. As shown in the 'Visualization of ratings' notebook, an impalanced distribution is proven for the current dataset. More specifically the majority class which is the 'five star' ratings class surpasses by a significant amount the number of reviews of the rest of the classes. This is a problem because typically, the minority classes are more important and therefore the problem is more sensitive to classification errors for the minority classes than the majority class. Oversampling and undersampling in data analysis are techniques used to adjust the class distribution of a dataset.\n",
    "\n",
    "<br/><br/>\n",
    "<img src=\"figures/undersampling&oversampling.png\" width=\"600\" align=\"center\"/>\n",
    "\n",
    "<i>The left representation in the figure above shows how undersampling works by reducing the data of the majority class. In contrast of the oversampling technique which expands the minority class.</i>\n",
    "\n",
    "### Random oversampling\n",
    "A problem with imbalanced classification can be seen from the view that there are too few examples of the minority class for a model to effectively learn the decision boundary. One way to solve this problem is to oversample the examples in the minority class. This can be achieved by simply duplicating examples from the minority class in the training dataset prior to fitting a model. This can balance the class distribution but does not provide any additional information to the model. An improvement on duplicating examples from the minority class is to synthesize new examples from the minority class. This is a type of data augmentation for tabular data and can be very effective. Synthetic Minority Oversampling Technique (SMOTE) is an algorithm which implements this technique.\n",
    "\n",
    "#### Synthetic Minority Oversampling Technique (SMOTE)\n",
    "\n",
    "SMOTE works by selecting examples that are close in the feature space, drawing a line between the examples in the feature space and drawing a new sample at a point along that line. Specifically, a random example from the minority class is first chosen. Then *k* of the nearest neighbors for that example are found. A randomly selected neighbor is chosen and a synthetic example is created at a randomly selected point between the two examples in feature space. An example of an algorithm iteration is presented below in the following steps:\n",
    "\n",
    "- For each minority example *k* compute nearest minority class examples.\n",
    "- Synthetically generate event that lies between the *k* examples.\n",
    "\n",
    "<br/><br/>\n",
    "<img src=\"figures/SMOTE.png\" width=\"600\" align=\"center\"/>\n",
    "\n",
    "### Random undersampling\n",
    "Randomly remove samples from the majority class, with or without replacement. This is one of the earliest techniques used to alleviate imbalance in the dataset, however, it may increase the variance of the classifier and may potentially discard useful or important samples.\n",
    "\n",
    "#### TomekLinks Undersampling \n",
    "Tomek Links refers to a method for identifying pairs of nearest neighbors in a dataset that have different classes. Removing one or both of the examples in these pairs (such as the examples in the majority class) has the effect of making the decision boundary in the training dataset less noisy or ambiguous.\n",
    "\n",
    "<br/><br/>\n",
    "<img src=\"figures/tomeklinks.png\" width=\"600\" align=\"center\"/>\n",
    "\n",
    "##### Majority parameter\n",
    "\n",
    "The TomekLinks implementation of the sklearn library includes the Majority parameter which resamples only the majority class. As seen in the 'Visualization of ratings' notebook the only class significantly overcoming the other classes. In order to avoid decreasing in materiality the Neutral class which seems to be a sensitive class it could be a good technique to use this parameter to only affect the positive class with under-sampling.\n",
    "\n",
    "[Figures source](https://www.kaggle.com/rafjaa/resampling-strategies-for-imbalanced-datasets#t1)"
   ]
  },
  {
   "cell_type": "markdown",
   "metadata": {},
   "source": [
    "<a href=\"https://nbviewer.jupyter.org/github/panayiotiska/Jupyter-Sentiment-Analysis-Video-games-reviews/blob/master/Naive_Bayes_tfidfVectorizer_Over-Sampling-Smote.ipynb\">\n",
    "         <img alt=\"start\" src=\"figures/button_next.jpg\">"
   ]
  }
 ],
 "metadata": {
  "kernelspec": {
   "display_name": "Python 3",
   "language": "python",
   "name": "python3"
  },
  "language_info": {
   "codemirror_mode": {
    "name": "ipython",
    "version": 3
   },
   "file_extension": ".py",
   "mimetype": "text/x-python",
   "name": "python",
   "nbconvert_exporter": "python",
   "pygments_lexer": "ipython3",
   "version": "3.6.5"
  },
  "latex_envs": {
   "LaTeX_envs_menu_present": true,
   "autoclose": false,
   "autocomplete": true,
   "bibliofile": "biblio.bib",
   "cite_by": "apalike",
   "current_citInitial": 1,
   "eqLabelWithNumbers": true,
   "eqNumInitial": 1,
   "hotkeys": {
    "equation": "Ctrl-E",
    "itemize": "Ctrl-I"
   },
   "labels_anchors": false,
   "latex_user_defs": false,
   "report_style_numbering": false,
   "user_envs_cfg": false
  }
 },
 "nbformat": 4,
 "nbformat_minor": 4
}
